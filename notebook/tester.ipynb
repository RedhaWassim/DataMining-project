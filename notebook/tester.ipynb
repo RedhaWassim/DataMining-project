{
 "cells": [
  {
   "cell_type": "code",
   "execution_count": 1,
   "metadata": {},
   "outputs": [],
   "source": [
    "import pandas as pd\n",
    "from soil_fertility.components.data_pipeline.data_ingestion import DataIngestion\n",
    "from soil_fertility.components.data_pipeline.data_transformation import DataTransformation\n",
    "import warnings\n",
    "warnings.filterwarnings('ignore')\n"
   ]
  },
  {
   "cell_type": "code",
   "execution_count": 2,
   "metadata": {},
   "outputs": [],
   "source": [
    "data_path=\"/home/redha/Documents/projects/NLP/datamining project/Soil-Fertility/data/Dataset1.csv\""
   ]
  },
  {
   "cell_type": "code",
   "execution_count": 3,
   "metadata": {},
   "outputs": [],
   "source": [
    "obj = DataIngestion()\n",
    "part,train_path,test_path= obj.init_ingestion(\n",
    "    data_path\n",
    ")"
   ]
  },
  {
   "cell_type": "code",
   "execution_count": 4,
   "metadata": {},
   "outputs": [
    {
     "name": "stdout",
     "output_type": "stream",
     "text": [
      "train_coolumns=  Index(['N', 'P', 'K', 'pH', 'EC', 'OC', 'S', 'Zn', 'Fe', 'Cu', 'Mn', 'B', 'OM',\n",
      "       'Fertility'],\n",
      "      dtype='object')\n",
      "test_coolumns=  Index(['N', 'P', 'K', 'pH', 'EC', 'OC', 'S', 'Zn', 'Fe', 'Cu', 'Mn', 'B', 'OM',\n",
      "       'Fertility'],\n",
      "      dtype='object')\n"
     ]
    }
   ],
   "source": [
    "tranformation_obj = DataTransformation()\n",
    "part,preprocessor,processed_train_path,processed_test_path = tranformation_obj.transform(\n",
    "    train_path,test_path,target=\"Fertility\"\n",
    ")"
   ]
  },
  {
   "cell_type": "code",
   "execution_count": 5,
   "metadata": {},
   "outputs": [],
   "source": [
    "train=pd.read_csv(processed_train_path)\n",
    "test=pd.read_csv(processed_test_path)"
   ]
  },
  {
   "cell_type": "code",
   "execution_count": 6,
   "metadata": {},
   "outputs": [],
   "source": [
    "from soil_fertility.components.model_pipeline.model_trainer import ModelTrainer"
   ]
  },
  {
   "cell_type": "code",
   "execution_count": 7,
   "metadata": {},
   "outputs": [],
   "source": [
    "model_trainer_obj = ModelTrainer()"
   ]
  },
  {
   "cell_type": "code",
   "execution_count": 8,
   "metadata": {},
   "outputs": [],
   "source": [
    "s=model_trainer_obj.init_training(train_data = train, test_data = test, target_column = \"Fertility\", \n",
    "                                 mode='default')"
   ]
  },
  {
   "cell_type": "code",
   "execution_count": 9,
   "metadata": {},
   "outputs": [
    {
     "data": {
      "text/plain": [
       "{'metrics': {'decision_tree': {'micro_average': {'precision': 0.8693181818181818,\n",
       "    'recall': 0.8693181818181818,\n",
       "    'f1_score': 0.8693181818181818},\n",
       "   'macro_average': {'precision': 0.7003235037949483,\n",
       "    'recall': 0.7557422969187675,\n",
       "    'f1_score': 0.7214891436026466},\n",
       "   'metrics_per_class': {'0': {'precision': 0.8421052631578947,\n",
       "     'recall': 0.9142857142857143,\n",
       "     'f1_score': 0.8767123287671234,\n",
       "     'specificity': 0.94},\n",
       "    '1': {'precision': 0.925531914893617,\n",
       "     'recall': 0.8529411764705882,\n",
       "     'f1_score': 0.8877551020408163,\n",
       "     'specificity': 0.8170731707317073},\n",
       "    '2': {'precision': 0.3333333333333333,\n",
       "     'recall': 0.5,\n",
       "     'f1_score': 0.4,\n",
       "     'specificity': 0.9882352941176471}}},\n",
       "  'random_forest': {'micro_average': {'precision': 0.5909090909090909,\n",
       "    'recall': 0.5909090909090909,\n",
       "    'f1_score': 0.5909090909090909},\n",
       "   'macro_average': {'precision': 0.41948206224756474,\n",
       "    'recall': 0.42651727357609714,\n",
       "    'f1_score': 0.3971480683137125},\n",
       "   'metrics_per_class': {'0': {'precision': 0.5043478260869565,\n",
       "     'recall': 0.8285714285714286,\n",
       "     'f1_score': 0.6270270270270271,\n",
       "     'specificity': 0.8032786885245902},\n",
       "    '1': {'precision': 0.7540983606557377,\n",
       "     'recall': 0.45098039215686275,\n",
       "     'f1_score': 0.5644171779141105,\n",
       "     'specificity': 0.5130434782608696},\n",
       "    '2': {'precision': 0,\n",
       "     'recall': 0.0,\n",
       "     'f1_score': 0,\n",
       "     'specificity': 0.9772727272727273}}}},\n",
       " 'decision_tree': <soil_fertility.components.model_pipeline.models.decision_tree.DecisionTree at 0x7fcd203a92a0>,\n",
       " 'random_forest': <soil_fertility.components.model_pipeline.models.random_forest.RandomForest at 0x7fcd203a83d0>}"
      ]
     },
     "execution_count": 9,
     "metadata": {},
     "output_type": "execute_result"
    }
   ],
   "source": [
    "s"
   ]
  }
 ],
 "metadata": {
  "kernelspec": {
   "display_name": ".venv",
   "language": "python",
   "name": "python3"
  },
  "language_info": {
   "codemirror_mode": {
    "name": "ipython",
    "version": 3
   },
   "file_extension": ".py",
   "mimetype": "text/x-python",
   "name": "python",
   "nbconvert_exporter": "python",
   "pygments_lexer": "ipython3",
   "version": "3.10.12"
  }
 },
 "nbformat": 4,
 "nbformat_minor": 2
}
