{
 "cells": [
  {
   "cell_type": "code",
   "execution_count": 1,
   "metadata": {},
   "outputs": [],
   "source": [
    "import pandas as pd\n",
    "from soil_fertility.components.data_ingestion import DataIngestion\n",
    "from soil_fertility.components.data_transformation import DataTransformation"
   ]
  },
  {
   "cell_type": "code",
   "execution_count": 2,
   "metadata": {},
   "outputs": [],
   "source": [
    "obj = DataIngestion()\n",
    "part,train_path,test_path= obj.init_ingestion(\n",
    "    \"/home/redha/Documents/projects/NLP/datamining project/Soil-Fertility/data/Dataset1.csv\"\n",
    ")\n"
   ]
  },
  {
   "cell_type": "code",
   "execution_count": 3,
   "metadata": {},
   "outputs": [],
   "source": [
    "tranformation_obj = DataTransformation()\n",
    "part,preprocessor,processed_train_path,processed_test_path = tranformation_obj.transform(\n",
    "    train_path,test_path,target=\"Fertility\"\n",
    ")"
   ]
  },
  {
   "cell_type": "code",
   "execution_count": 5,
   "metadata": {},
   "outputs": [],
   "source": [
    "from sklearn.preprocessing import MinMaxScaler \n",
    "df_train=pd.read_csv(train_path)\n",
    "df_test=pd.read_csv(test_path)\n",
    "\n"
   ]
  },
  {
   "cell_type": "code",
   "execution_count": 7,
   "metadata": {},
   "outputs": [],
   "source": [
    "df_train.drop(['Fertility'],axis=1,inplace=True)\n",
    "df_test.drop(['Fertility'],axis=1,inplace=True)"
   ]
  },
  {
   "cell_type": "code",
   "execution_count": 8,
   "metadata": {},
   "outputs": [],
   "source": [
    "scaler = MinMaxScaler()\n",
    "ss=scaler.fit_transform(df_train)\n",
    "ss1=scaler.transform(df_test)\n"
   ]
  },
  {
   "cell_type": "code",
   "execution_count": 4,
   "metadata": {},
   "outputs": [
    {
     "data": {
      "text/html": [
       "<style>#sk-container-id-1 {color: black;}#sk-container-id-1 pre{padding: 0;}#sk-container-id-1 div.sk-toggleable {background-color: white;}#sk-container-id-1 label.sk-toggleable__label {cursor: pointer;display: block;width: 100%;margin-bottom: 0;padding: 0.3em;box-sizing: border-box;text-align: center;}#sk-container-id-1 label.sk-toggleable__label-arrow:before {content: \"▸\";float: left;margin-right: 0.25em;color: #696969;}#sk-container-id-1 label.sk-toggleable__label-arrow:hover:before {color: black;}#sk-container-id-1 div.sk-estimator:hover label.sk-toggleable__label-arrow:before {color: black;}#sk-container-id-1 div.sk-toggleable__content {max-height: 0;max-width: 0;overflow: hidden;text-align: left;background-color: #f0f8ff;}#sk-container-id-1 div.sk-toggleable__content pre {margin: 0.2em;color: black;border-radius: 0.25em;background-color: #f0f8ff;}#sk-container-id-1 input.sk-toggleable__control:checked~div.sk-toggleable__content {max-height: 200px;max-width: 100%;overflow: auto;}#sk-container-id-1 input.sk-toggleable__control:checked~label.sk-toggleable__label-arrow:before {content: \"▾\";}#sk-container-id-1 div.sk-estimator input.sk-toggleable__control:checked~label.sk-toggleable__label {background-color: #d4ebff;}#sk-container-id-1 div.sk-label input.sk-toggleable__control:checked~label.sk-toggleable__label {background-color: #d4ebff;}#sk-container-id-1 input.sk-hidden--visually {border: 0;clip: rect(1px 1px 1px 1px);clip: rect(1px, 1px, 1px, 1px);height: 1px;margin: -1px;overflow: hidden;padding: 0;position: absolute;width: 1px;}#sk-container-id-1 div.sk-estimator {font-family: monospace;background-color: #f0f8ff;border: 1px dotted black;border-radius: 0.25em;box-sizing: border-box;margin-bottom: 0.5em;}#sk-container-id-1 div.sk-estimator:hover {background-color: #d4ebff;}#sk-container-id-1 div.sk-parallel-item::after {content: \"\";width: 100%;border-bottom: 1px solid gray;flex-grow: 1;}#sk-container-id-1 div.sk-label:hover label.sk-toggleable__label {background-color: #d4ebff;}#sk-container-id-1 div.sk-serial::before {content: \"\";position: absolute;border-left: 1px solid gray;box-sizing: border-box;top: 0;bottom: 0;left: 50%;z-index: 0;}#sk-container-id-1 div.sk-serial {display: flex;flex-direction: column;align-items: center;background-color: white;padding-right: 0.2em;padding-left: 0.2em;position: relative;}#sk-container-id-1 div.sk-item {position: relative;z-index: 1;}#sk-container-id-1 div.sk-parallel {display: flex;align-items: stretch;justify-content: center;background-color: white;position: relative;}#sk-container-id-1 div.sk-item::before, #sk-container-id-1 div.sk-parallel-item::before {content: \"\";position: absolute;border-left: 1px solid gray;box-sizing: border-box;top: 0;bottom: 0;left: 50%;z-index: -1;}#sk-container-id-1 div.sk-parallel-item {display: flex;flex-direction: column;z-index: 1;position: relative;background-color: white;}#sk-container-id-1 div.sk-parallel-item:first-child::after {align-self: flex-end;width: 50%;}#sk-container-id-1 div.sk-parallel-item:last-child::after {align-self: flex-start;width: 50%;}#sk-container-id-1 div.sk-parallel-item:only-child::after {width: 0;}#sk-container-id-1 div.sk-dashed-wrapped {border: 1px dashed gray;margin: 0 0.4em 0.5em 0.4em;box-sizing: border-box;padding-bottom: 0.4em;background-color: white;}#sk-container-id-1 div.sk-label label {font-family: monospace;font-weight: bold;display: inline-block;line-height: 1.2em;}#sk-container-id-1 div.sk-label-container {text-align: center;}#sk-container-id-1 div.sk-container {/* jupyter's `normalize.less` sets `[hidden] { display: none; }` but bootstrap.min.css set `[hidden] { display: none !important; }` so we also need the `!important` here to be able to override the default hidden behavior on the sphinx rendered scikit-learn.org. See: https://github.com/scikit-learn/scikit-learn/issues/21755 */display: inline-block !important;position: relative;}#sk-container-id-1 div.sk-text-repr-fallback {display: none;}</style><div id=\"sk-container-id-1\" class=\"sk-top-container\"><div class=\"sk-text-repr-fallback\"><pre>ColumnTransformer(transformers=[(&#x27;numerical&#x27;,\n",
       "                                 Pipeline(steps=[(&#x27;imputer&#x27;,\n",
       "                                                  MinMaxTransformation())]),\n",
       "                                 Index([&#x27;N&#x27;, &#x27;P&#x27;, &#x27;K&#x27;, &#x27;pH&#x27;, &#x27;EC&#x27;, &#x27;OC&#x27;, &#x27;S&#x27;, &#x27;Zn&#x27;, &#x27;Fe&#x27;, &#x27;Cu&#x27;, &#x27;Mn&#x27;, &#x27;B&#x27;,\n",
       "       &#x27;OM&#x27;],\n",
       "      dtype=&#x27;object&#x27;))])</pre><b>In a Jupyter environment, please rerun this cell to show the HTML representation or trust the notebook. <br />On GitHub, the HTML representation is unable to render, please try loading this page with nbviewer.org.</b></div><div class=\"sk-container\" hidden><div class=\"sk-item sk-dashed-wrapped\"><div class=\"sk-label-container\"><div class=\"sk-label sk-toggleable\"><input class=\"sk-toggleable__control sk-hidden--visually\" id=\"sk-estimator-id-1\" type=\"checkbox\" ><label for=\"sk-estimator-id-1\" class=\"sk-toggleable__label sk-toggleable__label-arrow\">ColumnTransformer</label><div class=\"sk-toggleable__content\"><pre>ColumnTransformer(transformers=[(&#x27;numerical&#x27;,\n",
       "                                 Pipeline(steps=[(&#x27;imputer&#x27;,\n",
       "                                                  MinMaxTransformation())]),\n",
       "                                 Index([&#x27;N&#x27;, &#x27;P&#x27;, &#x27;K&#x27;, &#x27;pH&#x27;, &#x27;EC&#x27;, &#x27;OC&#x27;, &#x27;S&#x27;, &#x27;Zn&#x27;, &#x27;Fe&#x27;, &#x27;Cu&#x27;, &#x27;Mn&#x27;, &#x27;B&#x27;,\n",
       "       &#x27;OM&#x27;],\n",
       "      dtype=&#x27;object&#x27;))])</pre></div></div></div><div class=\"sk-parallel\"><div class=\"sk-parallel-item\"><div class=\"sk-item\"><div class=\"sk-label-container\"><div class=\"sk-label sk-toggleable\"><input class=\"sk-toggleable__control sk-hidden--visually\" id=\"sk-estimator-id-2\" type=\"checkbox\" ><label for=\"sk-estimator-id-2\" class=\"sk-toggleable__label sk-toggleable__label-arrow\">numerical</label><div class=\"sk-toggleable__content\"><pre>Index([&#x27;N&#x27;, &#x27;P&#x27;, &#x27;K&#x27;, &#x27;pH&#x27;, &#x27;EC&#x27;, &#x27;OC&#x27;, &#x27;S&#x27;, &#x27;Zn&#x27;, &#x27;Fe&#x27;, &#x27;Cu&#x27;, &#x27;Mn&#x27;, &#x27;B&#x27;,\n",
       "       &#x27;OM&#x27;],\n",
       "      dtype=&#x27;object&#x27;)</pre></div></div></div><div class=\"sk-serial\"><div class=\"sk-item\"><div class=\"sk-serial\"><div class=\"sk-item\"><div class=\"sk-estimator sk-toggleable\"><input class=\"sk-toggleable__control sk-hidden--visually\" id=\"sk-estimator-id-3\" type=\"checkbox\" ><label for=\"sk-estimator-id-3\" class=\"sk-toggleable__label sk-toggleable__label-arrow\">MinMaxTransformation</label><div class=\"sk-toggleable__content\"><pre>MinMaxTransformation()</pre></div></div></div></div></div></div></div></div></div></div></div></div>"
      ],
      "text/plain": [
       "ColumnTransformer(transformers=[('numerical',\n",
       "                                 Pipeline(steps=[('imputer',\n",
       "                                                  MinMaxTransformation())]),\n",
       "                                 Index(['N', 'P', 'K', 'pH', 'EC', 'OC', 'S', 'Zn', 'Fe', 'Cu', 'Mn', 'B',\n",
       "       'OM'],\n",
       "      dtype='object'))])"
      ]
     },
     "execution_count": 4,
     "metadata": {},
     "output_type": "execute_result"
    }
   ],
   "source": [
    "preprocessor"
   ]
  },
  {
   "cell_type": "code",
   "execution_count": 25,
   "metadata": {},
   "outputs": [],
   "source": [
    "df=pd.read_excel('/home/redha/Documents/projects/NLP/datamining project/Soil-Fertility/data/Dataset3.xlsx')\n"
   ]
  },
  {
   "cell_type": "code",
   "execution_count": 65,
   "metadata": {},
   "outputs": [],
   "source": [
    "from sklearn.base import BaseEstimator, TransformerMixin\n",
    "from typing import List\n",
    "class EqualWidthDescritizer(BaseEstimator, TransformerMixin):\n",
    "    def __init__(self, k: int) -> None:\n",
    "        self.k = k\n",
    "        self.bin_edges = None \n",
    "        \n",
    "\n",
    "    \n",
    "\n",
    "    def assigning_classes_equal_width(self, df : pd.DataFrame, column : str) -> List[int]:\n",
    "        \"\"\" this function assign classes to the dataframe column based on the number of classes k with equal width\n",
    "\n",
    "        Args:\n",
    "            df (pd.DataFrame): dataframe to assign classes to\n",
    "            column (str): column to assign classes to\n",
    "            k (int): number of classes\n",
    "\n",
    "        Returns:\n",
    "            List[int]: list of classes assigned to each row in the dataframe\n",
    "        \"\"\"\n",
    "\n",
    "        new_df=df.copy()        \n",
    "\n",
    "        class_assignments = []\n",
    "        current_class = 1\n",
    "        current_boundary = self.sorted_data.min() + self.bin_width            \n",
    "\n",
    "        for observation in self.sorted_data:\n",
    "            if observation > current_boundary:\n",
    "                current_class += 1\n",
    "                current_boundary += self.bin_width\n",
    "\n",
    "                if current_boundary > self.sorted_data.max():\n",
    "                    current_boundary = self.sorted_data.max()\n",
    "                    current_class = current_class-1\n",
    "\n",
    "            class_assignments.append(current_class)\n",
    "\n",
    "        new_df[column] = class_assignments\n",
    "\n",
    "\n",
    "        return new_df\n",
    "    \n",
    "    def fit(self, X, y=None):\n",
    "        values=X.iloc[:,0]\n",
    "        self.sorted_data = values.sort_values()\n",
    "        self.range_value = self.sorted_data.max() - self.sorted_data.min()\n",
    "        self.bin_width = self.range_value / self.k\n",
    "        \n",
    "        self.bin_edges_ = [self.sorted_data.min() + i * self.bin_width for i in range(1, self.k)]\n",
    "\n",
    "        return self\n",
    "    \n",
    "    def transform(self, X, y=None, **fit_params):\n",
    "\n",
    "        if self.bin_edges_ is None:\n",
    "            raise ValueError(\"fit() method must be called before transform()\")\n",
    "\n",
    "        # Use the saved bin edges to discretize the data\n",
    "        class_assignments = pd.cut(X.iloc[:,0], bins=self.bin_edges_, labels=False, include_lowest=True)\n",
    "        \n",
    "        X.iloc[:,0]=class_assignments\n",
    "\n",
    "        return X\n",
    "\n",
    "    def get_feature_names_out(self):\n",
    "        pass"
   ]
  },
  {
   "cell_type": "code",
   "execution_count": 66,
   "metadata": {},
   "outputs": [],
   "source": [
    "df=pd.read_excel('/home/redha/Documents/projects/NLP/datamining project/Soil-Fertility/data/Dataset3.xlsx')"
   ]
  },
  {
   "cell_type": "code",
   "execution_count": 68,
   "metadata": {},
   "outputs": [],
   "source": [
    "#import pipeline\n",
    "from sklearn.pipeline import Pipeline\n",
    "#import column transformer\n",
    "from sklearn.compose import ColumnTransformer\n",
    "\n",
    "test_pipe=Pipeline(steps=[\n",
    "    ('equal_width',EqualWidthDescritizer(5)),\n",
    "])\n",
    "\n",
    "col_tran=ColumnTransformer(transformers=[\n",
    "    ('equal_width',test_pipe,['Temperature']),\n",
    "],remainder='passthrough')\n",
    "\n",
    "r=col_tran.fit_transform(df)\n",
    "\n",
    "\n"
   ]
  },
  {
   "cell_type": "code",
   "execution_count": 71,
   "metadata": {},
   "outputs": [],
   "source": [
    "r=pd.DataFrame(r)"
   ]
  },
  {
   "cell_type": "code",
   "execution_count": 77,
   "metadata": {},
   "outputs": [
    {
     "data": {
      "text/plain": [
       "array([1.0, nan, 2.0, 0.0], dtype=object)"
      ]
     },
     "execution_count": 77,
     "metadata": {},
     "output_type": "execute_result"
    }
   ],
   "source": [
    "r.iloc[:,0].unique()"
   ]
  },
  {
   "cell_type": "code",
   "execution_count": 58,
   "metadata": {},
   "outputs": [
    {
     "data": {
      "text/plain": [
       "array([[1, 82.84, 295.61, 'Clayey', 'rice', 'DAP'],\n",
       "       [1, 96.65, 178.96, 'laterite', 'Coconut', 'Good NPK'],\n",
       "       [1, 81.64, 270.44, 'silty clay', 'rice', 'MOP'],\n",
       "       ...,\n",
       "       [5, 83.54, 230.45, 'Clayey', 'rice', 'MOP'],\n",
       "       [5, 83.47, 217.38, 'Clayey', 'rice', 'MOP'],\n",
       "       [5, 84.81, 298.56, 'silty clay', 'rice', 'MOP']], dtype=object)"
      ]
     },
     "execution_count": 58,
     "metadata": {},
     "output_type": "execute_result"
    }
   ],
   "source": [
    "r"
   ]
  },
  {
   "cell_type": "code",
   "execution_count": null,
   "metadata": {},
   "outputs": [],
   "source": [
    "TypeError: DataFrame.sort_values() missing 1 required positional argument: 'by'\n"
   ]
  },
  {
   "cell_type": "code",
   "execution_count": null,
   "metadata": {},
   "outputs": [],
   "source": [
    "        sorted_data = X.sort_values()\n",
    "        range_value = sorted_data.max() - sorted_data.min()\n",
    "        bin_width = range_value / self.k\n",
    "\n",
    "        # Calculate bin edges based on the training set\n",
    "        self.bin_edges_ = [sorted_data.min() + i * bin_width for i in range(1, self.k)]"
   ]
  },
  {
   "cell_type": "code",
   "execution_count": null,
   "metadata": {},
   "outputs": [],
   "source": []
  }
 ],
 "metadata": {
  "kernelspec": {
   "display_name": ".venv",
   "language": "python",
   "name": "python3"
  },
  "language_info": {
   "codemirror_mode": {
    "name": "ipython",
    "version": 3
   },
   "file_extension": ".py",
   "mimetype": "text/x-python",
   "name": "python",
   "nbconvert_exporter": "python",
   "pygments_lexer": "ipython3",
   "version": "3.10.12"
  }
 },
 "nbformat": 4,
 "nbformat_minor": 2
}
