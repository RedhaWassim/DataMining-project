{
 "cells": [
  {
   "cell_type": "code",
   "execution_count": 1,
   "metadata": {},
   "outputs": [],
   "source": [
    "import pandas as pd\n",
    "from soil_fertility.components.data_ingestion import DataIngestion\n",
    "from soil_fertility.components.data_transformation import DataTransformation"
   ]
  },
  {
   "cell_type": "code",
   "execution_count": 2,
   "metadata": {},
   "outputs": [],
   "source": [
    "obj = DataIngestion()\n",
    "part,train_path,test_path= obj.init_ingestion(\n",
    "    \"/home/redha/Documents/projects/NLP/datamining project/Soil-Fertility/data/Dataset1.csv\"\n",
    ")\n"
   ]
  },
  {
   "cell_type": "code",
   "execution_count": 4,
   "metadata": {},
   "outputs": [
    {
     "data": {
      "text/plain": [
       "'/home/redha/Documents/projects/NLP/datamining project/Soil-Fertility/artifacts/raw/1/train.csv'"
      ]
     },
     "execution_count": 4,
     "metadata": {},
     "output_type": "execute_result"
    }
   ],
   "source": [
    "train_path"
   ]
  },
  {
   "cell_type": "code",
   "execution_count": 5,
   "metadata": {},
   "outputs": [
    {
     "data": {
      "text/plain": [
       "'/home/redha/Documents/projects/NLP/datamining project/Soil-Fertility/artifacts/raw/1/test.csv'"
      ]
     },
     "execution_count": 5,
     "metadata": {},
     "output_type": "execute_result"
    }
   ],
   "source": [
    "test_path"
   ]
  },
  {
   "cell_type": "code",
   "execution_count": 7,
   "metadata": {},
   "outputs": [
    {
     "ename": "ValueError",
     "evalue": "too many values to unpack (expected 3)",
     "output_type": "error",
     "traceback": [
      "\u001b[0;31m---------------------------------------------------------------------------\u001b[0m",
      "\u001b[0;31mValueError\u001b[0m                                Traceback (most recent call last)",
      "\u001b[1;32m/home/redha/Documents/projects/NLP/datamining project/Soil-Fertility/notebook/tester.ipynb Cell 5\u001b[0m line \u001b[0;36m2\n\u001b[1;32m      <a href='vscode-notebook-cell:/home/redha/Documents/projects/NLP/datamining%20project/Soil-Fertility/notebook/tester.ipynb#W2sZmlsZQ%3D%3D?line=0'>1</a>\u001b[0m tranformation_obj \u001b[39m=\u001b[39m DataTransformation()\n\u001b[0;32m----> <a href='vscode-notebook-cell:/home/redha/Documents/projects/NLP/datamining%20project/Soil-Fertility/notebook/tester.ipynb#W2sZmlsZQ%3D%3D?line=1'>2</a>\u001b[0m preprocessor,processed_train_path,processed_test_path \u001b[39m=\u001b[39m tranformation_obj\u001b[39m.\u001b[39mtransform(\n\u001b[1;32m      <a href='vscode-notebook-cell:/home/redha/Documents/projects/NLP/datamining%20project/Soil-Fertility/notebook/tester.ipynb#W2sZmlsZQ%3D%3D?line=2'>3</a>\u001b[0m     train_path,test_path,target\u001b[39m=\u001b[39m\u001b[39m\"\u001b[39m\u001b[39mFertility\u001b[39m\u001b[39m\"\u001b[39m\n\u001b[1;32m      <a href='vscode-notebook-cell:/home/redha/Documents/projects/NLP/datamining%20project/Soil-Fertility/notebook/tester.ipynb#W2sZmlsZQ%3D%3D?line=3'>4</a>\u001b[0m )\n",
      "\u001b[0;31mValueError\u001b[0m: too many values to unpack (expected 3)"
     ]
    }
   ],
   "source": [
    "tranformation_obj = DataTransformation()\n",
    "preprocessor,processed_train_path,processed_test_path = tranformation_obj.transform(\n",
    "    train_path,test_path,target=\"Fertility\"\n",
    ")"
   ]
  }
 ],
 "metadata": {
  "kernelspec": {
   "display_name": ".venv",
   "language": "python",
   "name": "python3"
  },
  "language_info": {
   "codemirror_mode": {
    "name": "ipython",
    "version": 3
   },
   "file_extension": ".py",
   "mimetype": "text/x-python",
   "name": "python",
   "nbconvert_exporter": "python",
   "pygments_lexer": "ipython3",
   "version": "3.10.12"
  }
 },
 "nbformat": 4,
 "nbformat_minor": 2
}
