{
 "cells": [
  {
   "cell_type": "code",
   "execution_count": 1,
   "metadata": {},
   "outputs": [],
   "source": [
    "import pandas as pd\n",
    "from soil_fertility.components.data_ingestion import DataIngestion\n",
    "from soil_fertility.components.data_transformation.data_transformation import DataTransformation\n",
    "from soil_fertility.components.data_transformation.data_transformation_part3 import DataTransformationThree\n",
    "from soil_fertility.components.data_transformation.data_transformation_part2 import DataTransformationTwo\n",
    "import warnings\n",
    "warnings.filterwarnings('ignore')"
   ]
  },
  {
   "cell_type": "code",
   "execution_count": 2,
   "metadata": {},
   "outputs": [],
   "source": [
    "obj = DataIngestion()\n",
    "part,train_path,test_path= obj.init_ingestion(\n",
    "    \"/home/redha/Documents/projects/NLP/datamining project/Soil-Fertility/data/Dataset1.csv\"\n",
    ")\n",
    "part2,train_path2,test_path2= obj.init_ingestion(\n",
    "    \"/home/redha/Documents/projects/NLP/datamining project/Soil-Fertility/data/Dataset2.csv\"\n",
    ")\n",
    "part3,train_path3,test_path3= obj.init_ingestion(\n",
    "    \"/home/redha/Documents/projects/NLP/datamining project/Soil-Fertility/data/Dataset3.xlsx\",option=\"xlsx\"\n",
    ")\n",
    "data_path=r'/home/redha/Documents/projects/NLP/datamining project/Soil-Fertility/data/Dataset2.csv'\n"
   ]
  },
  {
   "cell_type": "code",
   "execution_count": 4,
   "metadata": {},
   "outputs": [],
   "source": [
    "transformation_obj=DataTransformationTwo()\n",
    "part,preprocessor,data_path=transformation_obj.transform(data_path)"
   ]
  },
  {
   "cell_type": "code",
   "execution_count": 5,
   "metadata": {},
   "outputs": [],
   "source": [
    "s=pd.read_csv(data_path)"
   ]
  },
  {
   "cell_type": "code",
   "execution_count": 6,
   "metadata": {},
   "outputs": [],
   "source": [
    "tranformation_obj = DataTransformation()\n",
    "part,preprocessor,processed_train_path,processed_test_path = tranformation_obj.transform(\n",
    "    train_path,test_path,target=\"Fertility\"\n",
    ")"
   ]
  },
  {
   "cell_type": "code",
   "execution_count": 7,
   "metadata": {},
   "outputs": [],
   "source": [
    "tranformation_obj = DataTransformationThree()\n",
    "part,preprocessor,processed_train_path,processed_test_path = tranformation_obj.transform(\n",
    "    train_path3,test_path3,numerical_features=[\"Temperature\",\"Humidity\",\"Rainfall\"],k=5,strategie=\"frequency\"\n",
    ")"
   ]
  },
  {
   "cell_type": "code",
   "execution_count": 8,
   "metadata": {},
   "outputs": [],
   "source": [
    "df=pd.read_csv(processed_train_path)"
   ]
  },
  {
   "cell_type": "code",
   "execution_count": null,
   "metadata": {},
   "outputs": [],
   "source": [
    "from soil_fertility.components.models import AssociationRuleMiner\n",
    "obj = AssociationRuleMiner()\n",
    "obj.execute(df,transactions_groups=[\"Soil\"],items_groups=[\"Crop\",\"Fertilizer\",\"Temperature\"\t,\"Humidity\"\t,\"Rainfall\"])"
   ]
  },
  {
   "cell_type": "code",
   "execution_count": null,
   "metadata": {},
   "outputs": [],
   "source": []
  }
 ],
 "metadata": {
  "kernelspec": {
   "display_name": ".venv",
   "language": "python",
   "name": "python3"
  },
  "language_info": {
   "codemirror_mode": {
    "name": "ipython",
    "version": 3
   },
   "file_extension": ".py",
   "mimetype": "text/x-python",
   "name": "python",
   "nbconvert_exporter": "python",
   "pygments_lexer": "ipython3",
   "version": "3.10.12"
  }
 },
 "nbformat": 4,
 "nbformat_minor": 2
}
