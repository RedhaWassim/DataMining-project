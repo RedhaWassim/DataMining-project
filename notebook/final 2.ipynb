{
 "cells": [
  {
   "cell_type": "code",
   "execution_count": 1,
   "metadata": {},
   "outputs": [],
   "source": [
    "import pandas as pd\n",
    "from soil_fertility.components.data_ingestion import DataIngestion\n",
    "from soil_fertility.components.data_transformation.data_transformation import DataTransformation\n",
    "from soil_fertility.components.data_transformation.data_transformation_part3 import DataTransformationThree\n",
    "from soil_fertility.components.data_transformation.data_transformation_part2 import DataTransformationTwo\n",
    "import warnings\n",
    "warnings.filterwarnings('ignore')\n",
    "from pathlib import Path"
   ]
  },
  {
   "cell_type": "code",
   "execution_count": 2,
   "metadata": {},
   "outputs": [],
   "source": [
    "data_path= \"/home/redha/Documents/projects/NLP/datamining project/Soil-Fertility/data/Dataset2.csv\""
   ]
  },
  {
   "cell_type": "code",
   "execution_count": 3,
   "metadata": {},
   "outputs": [],
   "source": [
    "obj = DataIngestion()\n",
    "\n",
    "part,train_path,test_path= obj.init_ingestion(\n",
    "    data_path\n",
    ")"
   ]
  },
  {
   "cell_type": "code",
   "execution_count": 4,
   "metadata": {},
   "outputs": [
    {
     "name": "stdout",
     "output_type": "stream",
     "text": [
      "part :  1\n",
      "train_path :  /home/redha/Documents/projects/NLP/datamining project/Soil-Fertility/artifacts/raw/1/train.csv\n",
      "test_path :  /home/redha/Documents/projects/NLP/datamining project/Soil-Fertility/artifacts/raw/1/test.csv\n"
     ]
    }
   ],
   "source": [
    "print(\"part : \",part)\n",
    "print(\"train_path : \",Path(train_path))\n",
    "print(\"test_path : \",Path(test_path))"
   ]
  },
  {
   "cell_type": "markdown",
   "metadata": {},
   "source": [
    "# Transformation"
   ]
  },
  {
   "cell_type": "code",
   "execution_count": 5,
   "metadata": {},
   "outputs": [],
   "source": [
    "transformation_obj=DataTransformationTwo()\n",
    "part,preprocessor,data_path=transformation_obj.transform(data_path)"
   ]
  }
 ],
 "metadata": {
  "kernelspec": {
   "display_name": ".venv",
   "language": "python",
   "name": "python3"
  },
  "language_info": {
   "codemirror_mode": {
    "name": "ipython",
    "version": 3
   },
   "file_extension": ".py",
   "mimetype": "text/x-python",
   "name": "python",
   "nbconvert_exporter": "python",
   "pygments_lexer": "ipython3",
   "version": "3.10.12"
  }
 },
 "nbformat": 4,
 "nbformat_minor": 2
}
