{
 "cells": [
  {
   "cell_type": "markdown",
   "metadata": {},
   "source": [
    "# IMPORT"
   ]
  },
  {
   "cell_type": "code",
   "execution_count": 1,
   "metadata": {},
   "outputs": [],
   "source": [
    "import pandas as pd\n",
    "from soil_fertility.components.data_pipeline.data_ingestion import DataIngestion\n",
    "from soil_fertility.components.data_pipeline.data_transformation import DataTransformation\n",
    "\n",
    "import warnings\n",
    "warnings.filterwarnings('ignore')\n",
    "from pathlib import Path"
   ]
  },
  {
   "cell_type": "markdown",
   "metadata": {},
   "source": [
    "# INGESTION"
   ]
  },
  {
   "cell_type": "code",
   "execution_count": 2,
   "metadata": {},
   "outputs": [],
   "source": [
    "data_path=\"/home/redha/Documents/projects/NLP/datamining project/Soil-Fertility/data/Dataset1.csv\"\n",
    "\n",
    "raw=pd.read_csv(data_path)\n",
    "obj = DataIngestion()\n",
    "part,train_path,test_path= obj.init_ingestion(\n",
    "    data_path\n",
    ")\n",
    "\n"
   ]
  },
  {
   "cell_type": "code",
   "execution_count": 7,
   "metadata": {},
   "outputs": [],
   "source": [
    "train_df=pd.read_csv(train_path)\n",
    "test_df=pd.read_csv(test_path)\n",
    "df = pd.concat([train_df, test_df], ignore_index=True)\n"
   ]
  },
  {
   "cell_type": "code",
   "execution_count": 8,
   "metadata": {},
   "outputs": [
    {
     "name": "stdout",
     "output_type": "stream",
     "text": [
      "train_coolumns=  Index(['N', 'P', 'K', 'pH', 'EC', 'OC', 'S', 'Zn', 'Fe', 'Cu', 'Mn', 'B', 'OM',\n",
      "       'Fertility'],\n",
      "      dtype='object')\n",
      "test_coolumns=  Index(['N', 'P', 'K', 'pH', 'EC', 'OC', 'S', 'Zn', 'Fe', 'Cu', 'Mn', 'B', 'OM',\n",
      "       'Fertility'],\n",
      "      dtype='object')\n"
     ]
    }
   ],
   "source": [
    "tranformation_obj = DataTransformation()\n",
    "part,preprocessor,processed_train_path,processed_test_path = tranformation_obj.transform(\n",
    "    train_path,test_path,target=\"Fertility\"\n",
    ")\n",
    "\n",
    "train_df=pd.read_csv(processed_train_path)\n",
    "test_df=pd.read_csv(processed_test_path)\n",
    "\n",
    "names=list(df.columns)\n",
    "train_df = train_df.rename(columns=dict(zip(train_df.columns, names)))\n",
    "test_df = test_df.rename(columns=dict(zip(test_df.columns, names)))"
   ]
  },
  {
   "cell_type": "code",
   "execution_count": 9,
   "metadata": {},
   "outputs": [],
   "source": [
    "train_df.drop('OM',axis=1,inplace=True)"
   ]
  },
  {
   "cell_type": "code",
   "execution_count": 10,
   "metadata": {},
   "outputs": [],
   "source": [
    "test_df.drop('OM',axis=1,inplace=True)"
   ]
  },
  {
   "cell_type": "markdown",
   "metadata": {},
   "source": [
    "# Transformation "
   ]
  },
  {
   "cell_type": "code",
   "execution_count": 13,
   "metadata": {},
   "outputs": [],
   "source": [
    "from soil_fertility.components.model_pipeline.models.decision_tree import DecisionTree\n",
    "from soil_fertility.components.model_pipeline.models.random_forest import RandomForest\n",
    "from soil_fertility.components.model_pipeline.model_trainer import ModelTrainer"
   ]
  },
  {
   "cell_type": "code",
   "execution_count": null,
   "metadata": {},
   "outputs": [],
   "source": [
    "# model_trainer=ModelTrainer()\n",
    "# result_default=  model_trainer.init_training(train_data=train_df,\n",
    "#                                      test_data=test_df,\n",
    "#                                      target_column=\"Fertility\",\n",
    "#                                      mode=\"default\",save_model=True)"
   ]
  },
  {
   "cell_type": "code",
   "execution_count": 15,
   "metadata": {},
   "outputs": [
    {
     "data": {
      "text/plain": [
       "{'metrics': {'decision_tree': {'accuracy': 0.8579545454545454,\n",
       "   'micro_average': {'precision': 0.8579545454545454,\n",
       "    'recall': 0.8579545454545454,\n",
       "    'f1_score': 0.8579545454545454},\n",
       "   'macro_average': {'precision': 0.6667098459578785,\n",
       "    'recall': 0.7477124183006536,\n",
       "    'f1_score': 0.6887874030731173},\n",
       "   'metrics_per_class': {'0.0': {'precision': 0.863013698630137,\n",
       "     'recall': 0.9,\n",
       "     'f1_score': 0.881118881118881,\n",
       "     'specificity': 0.9320388349514563},\n",
       "    '1.0': {'precision': 0.9148936170212766,\n",
       "     'recall': 0.8431372549019608,\n",
       "     'f1_score': 0.8775510204081632,\n",
       "     'specificity': 0.8048780487804879},\n",
       "    '2.0': {'precision': 0.2222222222222222,\n",
       "     'recall': 0.5,\n",
       "     'f1_score': 0.30769230769230765,\n",
       "     'specificity': 0.9880239520958084}}},\n",
       "  'random_forest': {'accuracy': 0.4715909090909091,\n",
       "   'micro_average': {'precision': 0.4715909090909091,\n",
       "    'recall': 0.4715909090909091,\n",
       "    'f1_score': 0.4715909090909091},\n",
       "   'macro_average': {'precision': 0.45396825396825397,\n",
       "    'recall': 0.3743230625583567,\n",
       "    'f1_score': 0.2789062789062789},\n",
       "   'metrics_per_class': {'0.0': {'precision': 0.42857142857142855,\n",
       "     'recall': 0.9857142857142858,\n",
       "     'f1_score': 0.5974025974025974,\n",
       "     'specificity': 0.9333333333333333},\n",
       "    '1.0': {'precision': 0.9333333333333333,\n",
       "     'recall': 0.13725490196078433,\n",
       "     'f1_score': 0.23931623931623935,\n",
       "     'specificity': 0.453416149068323},\n",
       "    '2.0': {'precision': 0,\n",
       "     'recall': 0.0,\n",
       "     'f1_score': 0,\n",
       "     'specificity': 0.9772727272727273}}}},\n",
       " 'decision_tree': <soil_fertility.components.model_pipeline.models.decision_tree.DecisionTree at 0x7fdc82e6bd90>,\n",
       " 'random_forest': <soil_fertility.components.model_pipeline.models.random_forest.RandomForest at 0x7fdc277cf970>}"
      ]
     },
     "execution_count": 15,
     "metadata": {},
     "output_type": "execute_result"
    }
   ],
   "source": [
    "result_default"
   ]
  },
  {
   "cell_type": "code",
   "execution_count": 26,
   "metadata": {},
   "outputs": [],
   "source": [
    "def dict_to_df(data):\n",
    "    models = []\n",
    "    accuracies = []\n",
    "    micro_avg_precisions = []\n",
    "    micro_avg_recalls = []\n",
    "    micro_avg_f1_scores = []\n",
    "    macro_avg_precisions = []\n",
    "    macro_avg_recalls = []\n",
    "    macro_avg_f1_scores = []\n",
    "    precisions_0 = []\n",
    "    recalls_0 = []\n",
    "    f1_scores_0 = []\n",
    "    precisions_1 = []\n",
    "    recalls_1 = []\n",
    "    f1_scores_1 = []\n",
    "    precisions_2 = []\n",
    "    recalls_2 = []\n",
    "    f1_scores_2 = []\n",
    "    specificities_0 = []\n",
    "    specificities_1 = []\n",
    "    specificities_2 = []\n",
    "    for model, metrics in data.items():\n",
    "        models.append(model)\n",
    "        accuracies.append(metrics['accuracy'])\n",
    "        micro_avg_precisions.append(metrics['micro_average']['precision'])\n",
    "        micro_avg_recalls.append(metrics['micro_average']['recall'])\n",
    "        micro_avg_f1_scores.append(metrics['micro_average']['f1_score'])\n",
    "        macro_avg_precisions.append(metrics['macro_average']['precision'])\n",
    "        macro_avg_recalls.append(metrics['macro_average']['recall'])\n",
    "        macro_avg_f1_scores.append(metrics['macro_average']['f1_score'])\n",
    "\n",
    "        metrics_per_class = metrics['metrics_per_class']\n",
    "        precisions_0.append(metrics_per_class['0.0']['precision'])\n",
    "        recalls_0.append(metrics_per_class['0.0']['recall'])\n",
    "        f1_scores_0.append(metrics_per_class['0.0']['f1_score'])\n",
    "        specificities_0.append(metrics_per_class['0.0']['specificity'])\n",
    "\n",
    "        precisions_1.append(metrics_per_class['1.0']['precision'])\n",
    "        recalls_1.append(metrics_per_class['1.0']['recall'])\n",
    "        f1_scores_1.append(metrics_per_class['1.0']['f1_score'])\n",
    "        specificities_1.append(metrics_per_class['1.0']['specificity'])\n",
    "\n",
    "        precisions_2.append(metrics_per_class['2.0']['precision'])\n",
    "        recalls_2.append(metrics_per_class['2.0']['recall'])\n",
    "        f1_scores_2.append(metrics_per_class['2.0']['f1_score'])\n",
    "        specificities_2.append(metrics_per_class['2.0']['specificity'])\n",
    "\n",
    "    # Create a DataFrame\n",
    "    df = pd.DataFrame({\n",
    "        'model': models,\n",
    "        'accuracy': accuracies,\n",
    "        'MicroAvg_precision': micro_avg_precisions,\n",
    "        'MicroAvg_recall': micro_avg_recalls,\n",
    "        'MicroAvg_f1_score': micro_avg_f1_scores,\n",
    "        'MacroAvg_precision': macro_avg_precisions,\n",
    "        'MacroAvg_recall': macro_avg_recalls,\n",
    "        'MacroAvg_f1_score': macro_avg_f1_scores,\n",
    "        'precision_0': precisions_0,\n",
    "        'recall_0': recalls_0,\n",
    "        'f1_score_0': f1_scores_0,\n",
    "        'specificity_0': specificities_0,\n",
    "        'precision_1': precisions_1,\n",
    "        'recall_1': recalls_1,\n",
    "        'f1_score_1': f1_scores_1,\n",
    "        'specificity_1': specificities_1,\n",
    "        'precision_2': precisions_2,\n",
    "        'recall_2': recalls_2,\n",
    "        'f1_score_2': f1_scores_2,\n",
    "        'specificity_2': specificities_2\n",
    "    })\n",
    "\n",
    "    return df"
   ]
  },
  {
   "cell_type": "code",
   "execution_count": 33,
   "metadata": {},
   "outputs": [
    {
     "data": {
      "text/plain": [
       "Index(['model', 'accuracy', 'MicroAvg_precision', 'MicroAvg_recall',\n",
       "       'MicroAvg_f1_score', 'MacroAvg_precision', 'MacroAvg_recall',\n",
       "       'MacroAvg_f1_score', 'precision_0', 'recall_0', 'f1_score_0',\n",
       "       'specificity_0', 'precision_1', 'recall_1', 'f1_score_1',\n",
       "       'specificity_1', 'precision_2', 'recall_2', 'f1_score_2',\n",
       "       'specificity_2'],\n",
       "      dtype='object')"
      ]
     },
     "execution_count": 33,
     "metadata": {},
     "output_type": "execute_result"
    }
   ],
   "source": [
    "df.columns"
   ]
  },
  {
   "cell_type": "code",
   "execution_count": 35,
   "metadata": {},
   "outputs": [],
   "source": [
    "df.to_csv('default_results.csv')"
   ]
  },
  {
   "cell_type": "code",
   "execution_count": 36,
   "metadata": {},
   "outputs": [],
   "source": [
    "df_grid.to_csv('gris_results.csv')"
   ]
  },
  {
   "cell_type": "markdown",
   "metadata": {},
   "source": [
    "# GRID SEARCH"
   ]
  },
  {
   "cell_type": "code",
   "execution_count": 16,
   "metadata": {},
   "outputs": [],
   "source": [
    "# model_trainer2=ModelTrainer()\n",
    "# result2=  model_trainer.init_training(train_data=train_df,\n",
    "#                                      test_data=test_df,\n",
    "#                                      target_column=\"Fertility\",\n",
    "#                                      mode=\"gridsearch\",save_model=True)"
   ]
  },
  {
   "cell_type": "code",
   "execution_count": 17,
   "metadata": {},
   "outputs": [
    {
     "data": {
      "text/plain": [
       "{'metrics': {'decision_tree': {'accuracy': 0.875,\n",
       "   'micro_average': {'precision': 0.875, 'recall': 0.875, 'f1_score': 0.875},\n",
       "   'macro_average': {'precision': 0.6922983133509449,\n",
       "    'recall': 0.7590102707749766,\n",
       "    'f1_score': 0.715308755917893},\n",
       "   'metrics_per_class': {'0.0': {'precision': 0.8648648648648649,\n",
       "     'recall': 0.9142857142857143,\n",
       "     'f1_score': 0.888888888888889,\n",
       "     'specificity': 0.9411764705882353},\n",
       "    '1.0': {'precision': 0.9263157894736842,\n",
       "     'recall': 0.8627450980392157,\n",
       "     'f1_score': 0.8934010152284264,\n",
       "     'specificity': 0.8271604938271605},\n",
       "    '2.0': {'precision': 0.2857142857142857,\n",
       "     'recall': 0.5,\n",
       "     'f1_score': 0.36363636363636365,\n",
       "     'specificity': 0.9881656804733728}}},\n",
       "  'random_forest': {'accuracy': 0.6761363636363636,\n",
       "   'micro_average': {'precision': 0.6761363636363636,\n",
       "    'recall': 0.6761363636363636,\n",
       "    'f1_score': 0.6761363636363636},\n",
       "   'macro_average': {'precision': 0.4797958514772674,\n",
       "    'recall': 0.48450046685340803,\n",
       "    'f1_score': 0.4553734061930783},\n",
       "   'metrics_per_class': {'0.0': {'precision': 0.5663716814159292,\n",
       "     'recall': 0.9142857142857143,\n",
       "     'f1_score': 0.6994535519125683,\n",
       "     'specificity': 0.9047619047619048},\n",
       "    '1.0': {'precision': 0.873015873015873,\n",
       "     'recall': 0.5392156862745098,\n",
       "     'f1_score': 0.6666666666666666,\n",
       "     'specificity': 0.584070796460177},\n",
       "    '2.0': {'precision': 0,\n",
       "     'recall': 0.0,\n",
       "     'f1_score': 0,\n",
       "     'specificity': 0.9772727272727273}}}},\n",
       " 'decision_tree_gridsearch': GridSearchCV(cv=5,\n",
       "              estimator=<soil_fertility.components.model_pipeline.models.decision_tree.DecisionTree object at 0x7fdc277ad630>,\n",
       "              param_grid={'max_depth': [10, 12, 14, 16, 18, 20, 30, 40]},\n",
       "              scoring='accuracy'),\n",
       " 'random_forest_gridsearch': GridSearchCV(cv=5,\n",
       "              estimator=<soil_fertility.components.model_pipeline.models.random_forest.RandomForest object at 0x7fdc277ac6a0>,\n",
       "              param_grid={'max_depth': [10, 12, 14, 16, 18, 20, 30, 40],\n",
       "                          'n_trees': [10, 12, 14, 16, 18, 20, 30]},\n",
       "              scoring='accuracy')}"
      ]
     },
     "execution_count": 17,
     "metadata": {},
     "output_type": "execute_result"
    }
   ],
   "source": [
    "result2"
   ]
  },
  {
   "cell_type": "code",
   "execution_count": null,
   "metadata": {},
   "outputs": [],
   "source": [
    "df_grid=dict_to_df(result2['metrics'])"
   ]
  },
  {
   "cell_type": "code",
   "execution_count": 38,
   "metadata": {},
   "outputs": [
    {
     "data": {
      "text/html": [
       "<div>\n",
       "<style scoped>\n",
       "    .dataframe tbody tr th:only-of-type {\n",
       "        vertical-align: middle;\n",
       "    }\n",
       "\n",
       "    .dataframe tbody tr th {\n",
       "        vertical-align: top;\n",
       "    }\n",
       "\n",
       "    .dataframe thead th {\n",
       "        text-align: right;\n",
       "    }\n",
       "</style>\n",
       "<table border=\"1\" class=\"dataframe\">\n",
       "  <thead>\n",
       "    <tr style=\"text-align: right;\">\n",
       "      <th></th>\n",
       "      <th>N</th>\n",
       "      <th>P</th>\n",
       "      <th>K</th>\n",
       "      <th>pH</th>\n",
       "      <th>EC</th>\n",
       "      <th>OC</th>\n",
       "      <th>S</th>\n",
       "      <th>Zn</th>\n",
       "      <th>Fe</th>\n",
       "      <th>Cu</th>\n",
       "      <th>Mn</th>\n",
       "      <th>B</th>\n",
       "      <th>Fertility</th>\n",
       "    </tr>\n",
       "  </thead>\n",
       "  <tbody>\n",
       "    <tr>\n",
       "      <th>0</th>\n",
       "      <td>0.849850</td>\n",
       "      <td>0.282443</td>\n",
       "      <td>0.828431</td>\n",
       "      <td>0.220183</td>\n",
       "      <td>0.150685</td>\n",
       "      <td>0.239316</td>\n",
       "      <td>0.456215</td>\n",
       "      <td>0.250000</td>\n",
       "      <td>0.264023</td>\n",
       "      <td>0.368159</td>\n",
       "      <td>0.386674</td>\n",
       "      <td>0.084906</td>\n",
       "      <td>1.0</td>\n",
       "    </tr>\n",
       "    <tr>\n",
       "      <th>1</th>\n",
       "      <td>0.753754</td>\n",
       "      <td>0.413634</td>\n",
       "      <td>0.431373</td>\n",
       "      <td>0.495413</td>\n",
       "      <td>0.465753</td>\n",
       "      <td>0.282051</td>\n",
       "      <td>0.413842</td>\n",
       "      <td>0.264706</td>\n",
       "      <td>0.131528</td>\n",
       "      <td>0.069652</td>\n",
       "      <td>0.967996</td>\n",
       "      <td>0.273585</td>\n",
       "      <td>1.0</td>\n",
       "    </tr>\n",
       "    <tr>\n",
       "      <th>2</th>\n",
       "      <td>0.867868</td>\n",
       "      <td>0.213740</td>\n",
       "      <td>0.776144</td>\n",
       "      <td>0.954128</td>\n",
       "      <td>0.616438</td>\n",
       "      <td>0.495726</td>\n",
       "      <td>0.572740</td>\n",
       "      <td>0.367647</td>\n",
       "      <td>0.584139</td>\n",
       "      <td>0.875622</td>\n",
       "      <td>0.798006</td>\n",
       "      <td>0.339623</td>\n",
       "      <td>1.0</td>\n",
       "    </tr>\n",
       "    <tr>\n",
       "      <th>3</th>\n",
       "      <td>0.489489</td>\n",
       "      <td>0.595420</td>\n",
       "      <td>0.897059</td>\n",
       "      <td>0.302752</td>\n",
       "      <td>0.438356</td>\n",
       "      <td>0.495726</td>\n",
       "      <td>0.359463</td>\n",
       "      <td>0.617647</td>\n",
       "      <td>0.802708</td>\n",
       "      <td>0.328358</td>\n",
       "      <td>0.805876</td>\n",
       "      <td>0.283019</td>\n",
       "      <td>0.0</td>\n",
       "    </tr>\n",
       "    <tr>\n",
       "      <th>4</th>\n",
       "      <td>0.849850</td>\n",
       "      <td>0.870229</td>\n",
       "      <td>0.465686</td>\n",
       "      <td>0.431193</td>\n",
       "      <td>0.561644</td>\n",
       "      <td>0.666667</td>\n",
       "      <td>0.466102</td>\n",
       "      <td>0.441176</td>\n",
       "      <td>0.101547</td>\n",
       "      <td>0.636816</td>\n",
       "      <td>0.617524</td>\n",
       "      <td>0.216981</td>\n",
       "      <td>2.0</td>\n",
       "    </tr>\n",
       "    <tr>\n",
       "      <th>...</th>\n",
       "      <td>...</td>\n",
       "      <td>...</td>\n",
       "      <td>...</td>\n",
       "      <td>...</td>\n",
       "      <td>...</td>\n",
       "      <td>...</td>\n",
       "      <td>...</td>\n",
       "      <td>...</td>\n",
       "      <td>...</td>\n",
       "      <td>...</td>\n",
       "      <td>...</td>\n",
       "      <td>...</td>\n",
       "      <td>...</td>\n",
       "    </tr>\n",
       "    <tr>\n",
       "      <th>697</th>\n",
       "      <td>0.339339</td>\n",
       "      <td>0.396947</td>\n",
       "      <td>0.447712</td>\n",
       "      <td>0.495413</td>\n",
       "      <td>0.780822</td>\n",
       "      <td>0.914530</td>\n",
       "      <td>0.401836</td>\n",
       "      <td>0.647059</td>\n",
       "      <td>0.562863</td>\n",
       "      <td>0.611940</td>\n",
       "      <td>0.386674</td>\n",
       "      <td>0.320755</td>\n",
       "      <td>0.0</td>\n",
       "    </tr>\n",
       "    <tr>\n",
       "      <th>698</th>\n",
       "      <td>0.378378</td>\n",
       "      <td>0.435115</td>\n",
       "      <td>0.465686</td>\n",
       "      <td>0.651376</td>\n",
       "      <td>0.520548</td>\n",
       "      <td>0.589744</td>\n",
       "      <td>0.293785</td>\n",
       "      <td>0.294118</td>\n",
       "      <td>0.323985</td>\n",
       "      <td>0.273632</td>\n",
       "      <td>0.286988</td>\n",
       "      <td>0.028302</td>\n",
       "      <td>0.0</td>\n",
       "    </tr>\n",
       "    <tr>\n",
       "      <th>699</th>\n",
       "      <td>0.792793</td>\n",
       "      <td>0.564885</td>\n",
       "      <td>0.741830</td>\n",
       "      <td>0.064220</td>\n",
       "      <td>0.260274</td>\n",
       "      <td>0.829060</td>\n",
       "      <td>0.338277</td>\n",
       "      <td>0.470588</td>\n",
       "      <td>0.582205</td>\n",
       "      <td>0.189055</td>\n",
       "      <td>0.127492</td>\n",
       "      <td>0.415094</td>\n",
       "      <td>1.0</td>\n",
       "    </tr>\n",
       "    <tr>\n",
       "      <th>700</th>\n",
       "      <td>0.942943</td>\n",
       "      <td>0.396947</td>\n",
       "      <td>0.431373</td>\n",
       "      <td>0.449541</td>\n",
       "      <td>0.397260</td>\n",
       "      <td>0.000000</td>\n",
       "      <td>0.615113</td>\n",
       "      <td>0.411765</td>\n",
       "      <td>0.668279</td>\n",
       "      <td>0.442786</td>\n",
       "      <td>0.381952</td>\n",
       "      <td>0.415094</td>\n",
       "      <td>1.0</td>\n",
       "    </tr>\n",
       "    <tr>\n",
       "      <th>701</th>\n",
       "      <td>0.471471</td>\n",
       "      <td>0.297710</td>\n",
       "      <td>0.171569</td>\n",
       "      <td>0.587156</td>\n",
       "      <td>0.698630</td>\n",
       "      <td>0.495726</td>\n",
       "      <td>0.508475</td>\n",
       "      <td>0.735294</td>\n",
       "      <td>0.368472</td>\n",
       "      <td>0.577114</td>\n",
       "      <td>0.317943</td>\n",
       "      <td>0.160377</td>\n",
       "      <td>0.0</td>\n",
       "    </tr>\n",
       "  </tbody>\n",
       "</table>\n",
       "<p>702 rows × 13 columns</p>\n",
       "</div>"
      ],
      "text/plain": [
       "            N         P         K        pH        EC        OC         S  \\\n",
       "0    0.849850  0.282443  0.828431  0.220183  0.150685  0.239316  0.456215   \n",
       "1    0.753754  0.413634  0.431373  0.495413  0.465753  0.282051  0.413842   \n",
       "2    0.867868  0.213740  0.776144  0.954128  0.616438  0.495726  0.572740   \n",
       "3    0.489489  0.595420  0.897059  0.302752  0.438356  0.495726  0.359463   \n",
       "4    0.849850  0.870229  0.465686  0.431193  0.561644  0.666667  0.466102   \n",
       "..        ...       ...       ...       ...       ...       ...       ...   \n",
       "697  0.339339  0.396947  0.447712  0.495413  0.780822  0.914530  0.401836   \n",
       "698  0.378378  0.435115  0.465686  0.651376  0.520548  0.589744  0.293785   \n",
       "699  0.792793  0.564885  0.741830  0.064220  0.260274  0.829060  0.338277   \n",
       "700  0.942943  0.396947  0.431373  0.449541  0.397260  0.000000  0.615113   \n",
       "701  0.471471  0.297710  0.171569  0.587156  0.698630  0.495726  0.508475   \n",
       "\n",
       "           Zn        Fe        Cu        Mn         B  Fertility  \n",
       "0    0.250000  0.264023  0.368159  0.386674  0.084906        1.0  \n",
       "1    0.264706  0.131528  0.069652  0.967996  0.273585        1.0  \n",
       "2    0.367647  0.584139  0.875622  0.798006  0.339623        1.0  \n",
       "3    0.617647  0.802708  0.328358  0.805876  0.283019        0.0  \n",
       "4    0.441176  0.101547  0.636816  0.617524  0.216981        2.0  \n",
       "..        ...       ...       ...       ...       ...        ...  \n",
       "697  0.647059  0.562863  0.611940  0.386674  0.320755        0.0  \n",
       "698  0.294118  0.323985  0.273632  0.286988  0.028302        0.0  \n",
       "699  0.470588  0.582205  0.189055  0.127492  0.415094        1.0  \n",
       "700  0.411765  0.668279  0.442786  0.381952  0.415094        1.0  \n",
       "701  0.735294  0.368472  0.577114  0.317943  0.160377        0.0  \n",
       "\n",
       "[702 rows x 13 columns]"
      ]
     },
     "execution_count": 38,
     "metadata": {},
     "output_type": "execute_result"
    }
   ],
   "source": [
    "train_df"
   ]
  },
  {
   "cell_type": "code",
   "execution_count": 34,
   "metadata": {},
   "outputs": [],
   "source": [
    "from soil_fertility.components.model_pipeline.models.KNN import KNN\n",
    "\n",
    "knn= KNN()\n",
    "\n",
    "X=train_df.drop('Fertility',axis=1)\n",
    "y=train_df['Fertility']\n",
    "\n",
    "X_test=test_df.drop('Fertility',axis=1)\n",
    "y_test=test_df['Fertility']\n",
    "knn.fit(X,y)\n",
    "y_test_pred=knn.predict(X_test)\n"
   ]
  },
  {
   "cell_type": "code",
   "execution_count": 16,
   "metadata": {},
   "outputs": [],
   "source": [
    "from soil_fertility.components.utils.metrics import *\n",
    "metrics_per_class = {}\n",
    "report = {\"metrics\": {}}\n",
    "classes = np.unique(y_test)\n",
    "for class_label in classes:\n",
    "    prec, rec, f1 = precision_recall_f1(y_test, y_test_pred, class_label)\n",
    "    spec = specificity(y_test, y_test_pred, class_label)\n",
    "    metrics_per_class[str(class_label)] = {\n",
    "        \"precision\": prec,\n",
    "        \"recall\": rec,\n",
    "        \"f1_score\": f1,\n",
    "        \"specificity\": spec,\n",
    "    }\n",
    "    accuracy_score = accuracy(y_test, y_test_pred)\n",
    "micro_precision, micro_recall, micro_f1 = micro_average(\n",
    "    y_test, y_test_pred, classes\n",
    ")\n",
    "macro_precision, macro_recall, macro_f1 = macro_average(\n",
    "    y_test, y_test_pred, classes\n",
    ")\n",
    "report[\"metrics\"][\"KNN\"] = {\n",
    "    \"accuracy\": accuracy_score,\n",
    "    \"micro_average\": {\n",
    "        \"precision\": micro_precision,\n",
    "        \"recall\": micro_recall,\n",
    "        \"f1_score\": micro_f1,\n",
    "    },\n",
    "    \"macro_average\": {\n",
    "        \"precision\": macro_precision,\n",
    "        \"recall\": macro_recall,\n",
    "        \"f1_score\": macro_f1,\n",
    "    },\n",
    "    \"metrics_per_class\": metrics_per_class,\n",
    "}"
   ]
  },
  {
   "cell_type": "code",
   "execution_count": 18,
   "metadata": {},
   "outputs": [
    {
     "data": {
      "text/plain": [
       "{'metrics': {'KNN': {'accuracy': 0.8409090909090909,\n",
       "   'micro_average': {'precision': 0.8409090909090909,\n",
       "    'recall': 0.8409090909090909,\n",
       "    'f1_score': 0.8409090909090909},\n",
       "   'macro_average': {'precision': 0.5640683988452143,\n",
       "    'recall': 0.5777777777777778,\n",
       "    'f1_score': 0.5695272487763886},\n",
       "   'metrics_per_class': {'0.0': {'precision': 0.7974683544303798,\n",
       "     'recall': 0.9,\n",
       "     'f1_score': 0.8456375838926175,\n",
       "     'specificity': 0.9278350515463918},\n",
       "    '1.0': {'precision': 0.8947368421052632,\n",
       "     'recall': 0.8333333333333334,\n",
       "     'f1_score': 0.8629441624365481,\n",
       "     'specificity': 0.7901234567901234},\n",
       "    '2.0': {'precision': 0.0,\n",
       "     'recall': 0.0,\n",
       "     'f1_score': 0,\n",
       "     'specificity': 0.9770114942528736}}}}}"
      ]
     },
     "execution_count": 18,
     "metadata": {},
     "output_type": "execute_result"
    }
   ],
   "source": [
    "report"
   ]
  },
  {
   "cell_type": "code",
   "execution_count": 23,
   "metadata": {},
   "outputs": [],
   "source": [
    "resss=report['metrics']"
   ]
  },
  {
   "cell_type": "code",
   "execution_count": 27,
   "metadata": {},
   "outputs": [],
   "source": [
    "knn_df=dict_to_df(resss)"
   ]
  },
  {
   "cell_type": "code",
   "execution_count": null,
   "metadata": {},
   "outputs": [],
   "source": [
    "full_df="
   ]
  },
  {
   "cell_type": "code",
   "execution_count": 29,
   "metadata": {},
   "outputs": [],
   "source": [
    "grid_data=pd.read_csv('/home/redha/Documents/projects/NLP/datamining project/Soil-Fertility/notebook/gris_results.csv')\n",
    "normal_data=pd.read_csv('/home/redha/Documents/projects/NLP/datamining project/Soil-Fertility/notebook/default_results.csv')\n"
   ]
  },
  {
   "cell_type": "code",
   "execution_count": 32,
   "metadata": {},
   "outputs": [],
   "source": [
    "default_df=pd.concat([normal_data,knn_df])"
   ]
  },
  {
   "cell_type": "code",
   "execution_count": 33,
   "metadata": {},
   "outputs": [],
   "source": [
    "default_df.to_csv('default_final.csv')"
   ]
  },
  {
   "cell_type": "code",
   "execution_count": 40,
   "metadata": {},
   "outputs": [
    {
     "data": {
      "image/png": "[encoded data removed]",
      "text/plain": [
       "<Figure size 1200x600 with 1 Axes>"
      ]
     },
     "metadata": {},
     "output_type": "display_data"
    }
   ],
   "source": [
    "import numpy as np\n",
    "from sklearn.model_selection import GridSearchCV\n",
    "from sklearn.neighbors import KNeighborsClassifier\n",
    "from sklearn.model_selection import train_test_split\n",
    "from sklearn.preprocessing import StandardScaler\n",
    "from sklearn.datasets import load_iris\n",
    "import matplotlib.pyplot as plt\n",
    "\n",
    "X=train_df.drop('Fertility',axis=1)\n",
    "y=train_df['Fertility']\n",
    "\n",
    "X_test=test_df.drop('Fertility',axis=1)\n",
    "y_test=test_df['Fertility']\n",
    "#KNN Classifier\n",
    "knn = KNeighborsClassifier()\n",
    "\n",
    "# Parameters grid\n",
    "param_grid = {'n_neighbors': range(1, 31), 'weights': ['distance']}\n",
    "\n",
    "# GridSearchCV\n",
    "grid_search = GridSearchCV(knn, param_grid, cv=5)\n",
    "grid_search.fit(X, y)\n",
    "\n",
    "# Extracting results\n",
    "results = pd.DataFrame(grid_search.cv_results_)\n",
    "\n",
    "# Plotting\n",
    "plt.figure(figsize=(12, 6))\n",
    "for weight in ['uniform', 'distance']:\n",
    "    subset = results[results['param_weights'] == weight]\n",
    "    plt.plot(subset['param_n_neighbors'], subset['mean_test_score'], label=f'Weights: {weight}')\n",
    "\n",
    "plt.xlabel('Number of Neighbors')\n",
    "plt.ylabel('Accuracy')\n",
    "plt.title('KNN Grid Search Results')\n",
    "plt.legend()\n",
    "plt.grid(True)\n",
    "plt.show()"
   ]
  },
  {
   "cell_type": "code",
   "execution_count": null,
   "metadata": {},
   "outputs": [],
   "source": [
    "from soil_fertility.components.utils.metrics import *\n",
    "metrics_per_class = {}\n",
    "report = {\"metrics\": {}}\n",
    "classes = np.unique(y_test)\n",
    "for class_label in classes:\n",
    "    prec, rec, f1 = precision_recall_f1(y_test, y_test_pred, class_label)\n",
    "    spec = specificity(y_test, y_test_pred, class_label)\n",
    "    metrics_per_class[str(class_label)] = {\n",
    "        \"precision\": prec,\n",
    "        \"recall\": rec,\n",
    "        \"f1_score\": f1,\n",
    "        \"specificity\": spec,\n",
    "    }\n",
    "    accuracy_score = accuracy(y_test, y_test_pred)\n",
    "micro_precision, micro_recall, micro_f1 = micro_average(\n",
    "    y_test, y_test_pred, classes\n",
    ")\n",
    "macro_precision, macro_recall, macro_f1 = macro_average(\n",
    "    y_test, y_test_pred, classes\n",
    ")\n",
    "report[\"metrics\"][\"KNN\"] = {\n",
    "    \"accuracy\": accuracy_score,\n",
    "    \"micro_average\": {\n",
    "        \"precision\": micro_precision,\n",
    "        \"recall\": micro_recall,\n",
    "        \"f1_score\": micro_f1,\n",
    "    },\n",
    "    \"macro_average\": {\n",
    "        \"precision\": macro_precision,\n",
    "        \"recall\": macro_recall,\n",
    "        \"f1_score\": macro_f1,\n",
    "    },\n",
    "    \"metrics_per_class\": metrics_per_class,\n",
    "}"
   ]
  }
 ],
 "metadata": {
  "kernelspec": {
   "display_name": ".venv",
   "language": "python",
   "name": "python3"
  },
  "language_info": {
   "codemirror_mode": {
    "name": "ipython",
    "version": 3
   },
   "file_extension": ".py",
   "mimetype": "text/x-python",
   "name": "python",
   "nbconvert_exporter": "python",
   "pygments_lexer": "ipython3",
   "version": "3.10.12"
  }
 },
 "nbformat": 4,
 "nbformat_minor": 2
}
